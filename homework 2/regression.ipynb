{
 "cells": [
  {
   "cell_type": "code",
   "execution_count": 17,
   "id": "56212ca4-29e0-4bbf-8e87-449ac870c63b",
   "metadata": {},
   "outputs": [
    {
     "name": "stdout",
     "output_type": "stream",
     "text": [
      "   engine_displacement  num_cylinders  horsepower  vehicle_weight  \\\n",
      "0                  170            3.0       159.0     3413.433759   \n",
      "1                  130            5.0        97.0     3149.664934   \n",
      "2                  170            NaN        78.0     3079.038997   \n",
      "3                  220            4.0         NaN     2542.392402   \n",
      "4                  210            1.0       140.0     3460.870990   \n",
      "\n",
      "   acceleration  model_year  origin fuel_type         drivetrain  num_doors  \\\n",
      "0          17.7        2003  Europe  Gasoline    All-wheel drive        0.0   \n",
      "1          17.8        2007     USA  Gasoline  Front-wheel drive        0.0   \n",
      "2          15.1        2018  Europe  Gasoline  Front-wheel drive        0.0   \n",
      "3          20.2        2009     USA    Diesel    All-wheel drive        2.0   \n",
      "4          14.4        2009  Europe  Gasoline    All-wheel drive        2.0   \n",
      "\n",
      "   fuel_efficiency_mpg  \n",
      "0            13.231729  \n",
      "1            13.688217  \n",
      "2            14.246341  \n",
      "3            16.912736  \n",
      "4            12.488369  \n"
     ]
    }
   ],
   "source": [
    "import pandas as pd\n",
    "import numpy as np\n",
    "from sklearn.metrics import mean_squared_error\n",
    "\n",
    "url = 'https://raw.githubusercontent.com/alexeygrigorev/datasets/master/car_fuel_efficiency.csv'\n",
    "df = pd.read_csv(url)\n",
    "print(df.head())"
   ]
  },
  {
   "cell_type": "code",
   "execution_count": 32,
   "id": "13b1a0ff-ef0c-4428-9be1-c15b4c383e33",
   "metadata": {},
   "outputs": [
    {
     "name": "stdout",
     "output_type": "stream",
     "text": [
      "Median horsepower: 149.0\n"
     ]
    }
   ],
   "source": [
    "median_horsepower = df['horsepower'].median()\n",
    "print(f\"Median horsepower: {median_horsepower}\")"
   ]
  },
  {
   "cell_type": "code",
   "execution_count": 33,
   "id": "7a7fe637-7bf6-4c82-abbc-89c2a60a5088",
   "metadata": {},
   "outputs": [],
   "source": [
    "df_shuffled = df.sample(frac=1, random_state=42).reset_index(drop=True)\n",
    "\n",
    "n = len(df_shuffled)\n",
    "n_train = int(0.6 * n)\n",
    "n_val = int(0.2 * n)\n",
    "\n",
    "df_train = df_shuffled[:n_train]\n",
    "df_val = df_shuffled[n_train:n_train + n_val]\n",
    "df_test = df_shuffled[n_train + n_val:]\n",
    "\n",
    "features = ['engine_displacement', 'horsepower', 'vehicle_weight', 'model_year']\n",
    "target = 'fuel_efficiency_mpg'\n",
    "\n",
    "\n",
    "def train_linear_regression(X, y):\n",
    "    ones = np.ones(X.shape[0])\n",
    "    X = np.column_stack([ones, X])\n",
    "    XTX = X.T.dot(X)\n",
    "    XTX_inv = np.linalg.inv(XTX)\n",
    "    w = XTX_inv.dot(X.T).dot(y)\n",
    "    return w[0], w[1:]\n",
    "\n",
    "def train_linear_regression_reg(X, y, r=0.0):\n",
    "    ones = np.ones(X.shape[0])\n",
    "    X = np.column_stack([ones, X])\n",
    "    XTX = X.T.dot(X)\n",
    "    reg = r * np.eye(XTX.shape[0])\n",
    "    reg[0, 0] = 0\n",
    "    XTX = XTX + reg\n",
    "    XTX_inv = np.linalg.inv(XTX)\n",
    "    w = XTX_inv.dot(X.T).dot(y)\n",
    "    return w[0], w[1:]\n",
    "\n",
    "def predict(X, w0, w):\n",
    "    return w0 + X.dot(w)\n"
   ]
  },
  {
   "cell_type": "code",
   "execution_count": 34,
   "id": "2b4f7736-fd9f-44af-ad4b-1f5b694617cc",
   "metadata": {},
   "outputs": [
    {
     "name": "stdout",
     "output_type": "stream",
     "text": [
      "RMSE with 0: 0.52\n"
     ]
    }
   ],
   "source": [
    "df_train_0 = df_train.copy()\n",
    "df_val_0 = df_val.copy()\n",
    "df_train_0['horsepower'] = df_train_0['horsepower'].fillna(0)\n",
    "df_val_0['horsepower'] = df_val_0['horsepower'].fillna(0)\n",
    "\n",
    "X_train = df_train_0[features].values\n",
    "X_val = df_val_0[features].values\n",
    "y_train = df_train[target].values\n",
    "y_val = df_val[target].values\n",
    "\n",
    "w0, w = train_linear_regression(X_train, y_train)\n",
    "y_pred = predict(X_val, w0, w)\n",
    "rmse_0 = np.sqrt(mean_squared_error(y_val, y_pred))\n",
    "rmse_0 = round(rmse_0, 2)\n",
    "\n",
    "print(f\"RMSE with 0: {rmse_0}\")"
   ]
  },
  {
   "cell_type": "code",
   "execution_count": 37,
   "id": "2a84c31b-4e0a-4995-88d1-9f59d93f1cef",
   "metadata": {},
   "outputs": [
    {
     "name": "stdout",
     "output_type": "stream",
     "text": [
      "RMSE with mean: 0.46\n"
     ]
    }
   ],
   "source": [
    "mean_hp = df_train['horsepower'].mean()\n",
    "\n",
    "df_train_mean = df_train.copy()\n",
    "df_val_mean = df_val.copy()\n",
    "df_train_mean['horsepower'] = df_train_mean['horsepower'].fillna(mean_hp)\n",
    "df_val_mean['horsepower'] = df_val_mean['horsepower'].fillna(mean_hp)\n",
    "\n",
    "X_train = df_train_mean[features].values\n",
    "X_val = df_val_mean[features].values\n",
    "y_train = df_train[target].values\n",
    "y_val = df_val[target].values\n",
    "\n",
    "w0, w = train_linear_regression(X_train, y_train)\n",
    "y_pred = predict(X_val, w0, w)\n",
    "rmse_mean = np.sqrt(mean_squared_error(y_val, y_pred))\n",
    "rmse_mean = round(rmse_mean, 2)\n",
    "\n",
    "print(f\"RMSE with mean: {rmse_mean}\")\n"
   ]
  },
  {
   "cell_type": "code",
   "execution_count": 40,
   "id": "df75e86d-9bde-4212-80ce-24105669dbfe",
   "metadata": {},
   "outputs": [
    {
     "name": "stdout",
     "output_type": "stream",
     "text": [
      "Seed 0: RMSE=0.52\n",
      "Seed 1: RMSE=0.52\n",
      "Seed 2: RMSE=0.52\n",
      "Seed 3: RMSE=0.52\n",
      "Seed 4: RMSE=0.51\n",
      "Seed 5: RMSE=0.53\n",
      "Seed 6: RMSE=0.53\n",
      "Seed 7: RMSE=0.51\n",
      "Seed 8: RMSE=0.51\n",
      "Seed 9: RMSE=0.51\n",
      "\n",
      "Standard deviation: 0.007\n"
     ]
    }
   ],
   "source": [
    "# Question 5: Try different seeds\n",
    "\n",
    "seeds = [0, 1, 2, 3, 4, 5, 6, 7, 8, 9]\n",
    "rmse_scores = []\n",
    "\n",
    "for seed in seeds:\n",
    "    df_shuffled_temp = df.sample(frac=1, random_state=seed).reset_index(drop=True)\n",
    "    \n",
    "    n = len(df_shuffled_temp)\n",
    "    n_train = int(0.6 * n)\n",
    "    n_val = int(0.2 * n)\n",
    "    \n",
    "    df_train_temp = df_shuffled_temp[:n_train]\n",
    "    df_val_temp = df_shuffled_temp[n_train:n_train + n_val]\n",
    "    \n",
    "    df_train_temp = df_train_temp.copy()\n",
    "    df_val_temp = df_val_temp.copy()\n",
    "    df_train_temp['horsepower'] = df_train_temp['horsepower'].fillna(0)\n",
    "    df_val_temp['horsepower'] = df_val_temp['horsepower'].fillna(0)\n",
    "    \n",
    "    X_train_temp = df_train_temp[features].values\n",
    "    X_val_temp = df_val_temp[features].values\n",
    "    y_train_temp = df_train_temp[target].values\n",
    "    y_val_temp = df_val_temp[target].values\n",
    "    \n",
    "    w0, w = train_linear_regression(X_train_temp, y_train_temp)\n",
    "    y_pred = predict(X_val_temp, w0, w)\n",
    "    rmse = np.sqrt(mean_squared_error(y_val_temp, y_pred))\n",
    "    rmse = round(rmse, 2)\n",
    "    rmse_scores.append(rmse)\n",
    "    print(f\"Seed {seed}: RMSE={rmse}\")\n",
    "\n",
    "std = np.std(rmse_scores)\n",
    "std = round(std, 3)\n",
    "print(f\"\\nStandard deviation: {std}\")\n"
   ]
  },
  {
   "cell_type": "code",
   "execution_count": 41,
   "id": "0b805d61-9616-4e00-879c-c1a63c9e5cb4",
   "metadata": {},
   "outputs": [],
   "source": [
    "df_shuffled_9 = df.sample(frac=1, random_state=9).reset_index(drop=True)\n",
    "\n",
    "n = len(df_shuffled_9)\n",
    "n_train = int(0.6 * n)\n",
    "n_val = int(0.2 * n)\n",
    "\n",
    "df_train_9 = df_shuffled_9[:n_train]\n",
    "df_val_9 = df_shuffled_9[n_train:n_train + n_val]\n",
    "df_test_9 = df_shuffled_9[n_train + n_val:]"
   ]
  },
  {
   "cell_type": "code",
   "execution_count": 43,
   "id": "f28d320e-a54b-4918-aafd-5413c1b3bcd1",
   "metadata": {},
   "outputs": [
    {
     "name": "stdout",
     "output_type": "stream",
     "text": [
      "RMSE on test: 0.52\n"
     ]
    }
   ],
   "source": [
    "df_train_val = pd.concat([df_train_9, df_val_9]).reset_index(drop=True)\n",
    "\n",
    "df_train_val['horsepower'] = df_train_val['horsepower'].fillna(0)\n",
    "df_test_9 = df_test_9.copy()\n",
    "df_test_9['horsepower'] = df_test_9['horsepower'].fillna(0)\n",
    "\n",
    "X_train_val = df_train_val[features].values\n",
    "X_test = df_test_9[features].values\n",
    "y_train_val = df_train_val[target].values\n",
    "y_test = df_test_9[target].values\n",
    "\n",
    "w0, w = train_linear_regression_reg(X_train_val, y_train_val, r=0.001)\n",
    "y_pred = predict(X_test, w0, w)\n",
    "rmse_test = np.sqrt(mean_squared_error(y_test, y_pred))\n",
    "rmse_test = round(rmse_test, 2)\n",
    "\n",
    "print(f\"RMSE on test: {rmse_test}\")\n"
   ]
  }
 ],
 "metadata": {
  "kernelspec": {
   "display_name": "Python 3 (ipykernel)",
   "language": "python",
   "name": "python3"
  },
  "language_info": {
   "codemirror_mode": {
    "name": "ipython",
    "version": 3
   },
   "file_extension": ".py",
   "mimetype": "text/x-python",
   "name": "python",
   "nbconvert_exporter": "python",
   "pygments_lexer": "ipython3",
   "version": "3.11.13"
  }
 },
 "nbformat": 4,
 "nbformat_minor": 5
}
